{
  "nbformat": 4,
  "nbformat_minor": 0,
  "metadata": {
    "colab": {
      "provenance": [],
      "collapsed_sections": [],
      "authorship_tag": "ABX9TyN72XV5BktRlo6n0dlMG4ZQ",
      "include_colab_link": true
    },
    "kernelspec": {
      "name": "python3",
      "display_name": "Python 3"
    },
    "language_info": {
      "name": "python"
    }
  },
  "cells": [
    {
      "cell_type": "markdown",
      "metadata": {
        "id": "view-in-github",
        "colab_type": "text"
      },
      "source": [
        "<a href=\"https://colab.research.google.com/github/SakshiPorwal/hello-world-/blob/main/Rock_Paper_Scissors.ipynb\" target=\"_parent\"><img src=\"https://colab.research.google.com/assets/colab-badge.svg\" alt=\"Open In Colab\"/></a>"
      ]
    },
    {
      "cell_type": "code",
      "execution_count": null,
      "metadata": {
        "colab": {
          "base_uri": "https://localhost:8080/"
        },
        "id": "uD-EIeEEiKeK",
        "outputId": "a70dbab4-2738-4e9b-cc0e-c50e04612724"
      },
      "outputs": [
        {
          "output_type": "stream",
          "name": "stdout",
          "text": [
            "Choose rock, paper, scissors or exit: rock\n",
            "Your input is rock\n",
            "computer input is scissors\n",
            "you win\n",
            "Choose rock, paper, scissors or exit: paper\n",
            "Your input is paper\n",
            "computer input is scissors\n",
            "computer wins\n"
          ]
        }
      ],
      "source": [
        "import random\n",
        "\n",
        "exit = False\n",
        "user_points = 0\n",
        "computer_points = 0\n",
        "\n",
        "while exit == False:\n",
        "    options = [\"rock\", \"paper\" , \"scissors\"]\n",
        "    user_input = input(\"Choose rock, paper, scissors or exit: \")\n",
        "    computer_input = random.choice(options)\n",
        "    \n",
        "    if user_input == \"exit\" :\n",
        "        print(\"Game ended\")\n",
        "        print(\"You won a total score of \"+str(user_points)+\" and the computer total score is \" +str(computer_points))\n",
        "        exit = True\n",
        "\n",
        "    if user_input == \"rock\":\n",
        "        if computer_input == \"rock\":\n",
        "            print(\"Your input is rock\")\n",
        "            print(\"computer input is rock\")\n",
        "            print(\"It is a tie!\")\n",
        "        elif computer_input == \"paper\":\n",
        "            print(\"Your input is rock\")\n",
        "            print(\"computer input is paper\")\n",
        "            print(\" computer wins\")\n",
        "            computer_points += 1\n",
        "        elif computer_input == \"scissors\":\n",
        "            print(\"Your input is rock\")\n",
        "            print(\"computer input is scissors\")\n",
        "            print(\"you win\")\n",
        "            user_points += 1\n",
        "\n",
        "    elif user_input == \"paper\":\n",
        "        if computer_input == \"rock\":\n",
        "            print(\"Your input is paper\")\n",
        "            print(\"computer input is rock\")\n",
        "            print(\"you win!\")\n",
        "            user_points += 1\n",
        "        elif computer_input == \"paper\":\n",
        "            print(\"Your input is paper\")\n",
        "            print(\"computer input is paper\")\n",
        "            print(\"it's a tie!\")\n",
        "        elif computer_input == \"scissors\":\n",
        "            print(\"Your input is paper\")\n",
        "            print(\"computer input is scissors\")\n",
        "            print(\"computer wins\")\n",
        "            computer_points += 1\n",
        "\n",
        "    elif user_input == \"scissors\":\n",
        "        if computer_input == \"rock\":\n",
        "            print(\"Your input is scissors\")\n",
        "            print(\"computer input is rock\")\n",
        "            print(\"computer win!\")\n",
        "            computer_points += 1\n",
        "        elif computer_input == \"paper\":\n",
        "            print(\"Your input is scissors\")\n",
        "            print(\"computer input is paper\")\n",
        "            print(\"you win\")\n",
        "            user_points += 1\n",
        "        elif computer_input == \"scissors\":\n",
        "            print(\"Your input is scissors\")\n",
        "            print(\"computer input is scissors\")\n",
        "            print(\"its a tie\")\n",
        "\n",
        "    elif user_input != \" rock\" or user_input != \"paper\" or user_input != \"scissors\":\n",
        "        print(\"Invalid Input\")"
      ]
    }
  ]
}
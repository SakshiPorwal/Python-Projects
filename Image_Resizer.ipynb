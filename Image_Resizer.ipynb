{
  "nbformat": 4,
  "nbformat_minor": 0,
  "metadata": {
    "colab": {
      "provenance": [],
      "collapsed_sections": [],
      "authorship_tag": "ABX9TyOvLghC/HX2g753GOemX6lA",
      "include_colab_link": true
    },
    "kernelspec": {
      "name": "python3",
      "display_name": "Python 3"
    },
    "language_info": {
      "name": "python"
    }
  },
  "cells": [
    {
      "cell_type": "markdown",
      "metadata": {
        "id": "view-in-github",
        "colab_type": "text"
      },
      "source": [
        "<a href=\"https://colab.research.google.com/github/SakshiPorwal/hello-world-/blob/main/Image_Resizer.ipynb\" target=\"_parent\"><img src=\"https://colab.research.google.com/assets/colab-badge.svg\" alt=\"Open In Colab\"/></a>"
      ]
    },
    {
      "cell_type": "code",
      "execution_count": null,
      "metadata": {
        "id": "RebvneL2ceIe"
      },
      "outputs": [],
      "source": [
        "from PIL import Image\n",
        "\n",
        "def resize_image(sizel, size2) :\n",
        "    image = Image.open('image12345.jpg')\n",
        "\n",
        "    print(f\"Current size : {image.size}\" )\n",
        "\n",
        "    resized_image = image.resize(( sizel, size2))\n",
        "    \n",
        "    resized_image.save(' image12345' + str(size1) + '.jpeg')\n",
        "\n",
        "size1 = int(input( ' Enter Width: '))\n",
        "size2 = int(input('Enter Length: '))\n",
        "resize_image(size1, size2)"
      ]
    }
  ]
}
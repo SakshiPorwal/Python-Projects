{
  "nbformat": 4,
  "nbformat_minor": 0,
  "metadata": {
    "colab": {
      "provenance": [],
      "collapsed_sections": [],
      "authorship_tag": "ABX9TyPe/VN9otKoxlksf7zxDhdB",
      "include_colab_link": true
    },
    "kernelspec": {
      "name": "python3",
      "display_name": "Python 3"
    },
    "language_info": {
      "name": "python"
    }
  },
  "cells": [
    {
      "cell_type": "markdown",
      "metadata": {
        "id": "view-in-github",
        "colab_type": "text"
      },
      "source": [
        "<a href=\"https://colab.research.google.com/github/SakshiPorwal/hello-world-/blob/main/Email_Sender.ipynb\" target=\"_parent\"><img src=\"https://colab.research.google.com/assets/colab-badge.svg\" alt=\"Open In Colab\"/></a>"
      ]
    },
    {
      "cell_type": "code",
      "execution_count": null,
      "metadata": {
        "id": "0_qpgoYKXgU1",
        "colab": {
          "base_uri": "https://localhost:8080/",
          "height": 235
        },
        "outputId": "6d410f6d-2f80-4974-8d19-727c0f08e190"
      },
      "outputs": [
        {
          "output_type": "error",
          "ename": "NameError",
          "evalue": "ignored",
          "traceback": [
            "\u001b[0;31m---------------------------------------------------------------------------\u001b[0m",
            "\u001b[0;31mNameError\u001b[0m                                 Traceback (most recent call last)",
            "\u001b[0;32m<ipython-input-4-0b475dd00abe>\u001b[0m in \u001b[0;36m<module>\u001b[0;34m\u001b[0m\n\u001b[1;32m      4\u001b[0m \u001b[0;34m\u001b[0m\u001b[0m\n\u001b[1;32m      5\u001b[0m \u001b[0memail_sender\u001b[0m \u001b[0;34m=\u001b[0m \u001b[0;34m'sakshiporwal2002@gmail.com'\u001b[0m\u001b[0;34m\u001b[0m\u001b[0;34m\u001b[0m\u001b[0m\n\u001b[0;32m----> 6\u001b[0;31m \u001b[0memail_password\u001b[0m \u001b[0;34m=\u001b[0m \u001b[0mpassword\u001b[0m\u001b[0;34m\u001b[0m\u001b[0;34m\u001b[0m\u001b[0m\n\u001b[0m\u001b[1;32m      7\u001b[0m \u001b[0;34m\u001b[0m\u001b[0m\n\u001b[1;32m      8\u001b[0m \u001b[0memail_receiver\u001b[0m \u001b[0;34m=\u001b[0m \u001b[0;34m'1032200828@tcetmumbai.in'\u001b[0m\u001b[0;34m\u001b[0m\u001b[0;34m\u001b[0m\u001b[0m\n",
            "\u001b[0;31mNameError\u001b[0m: name 'password' is not defined"
          ]
        }
      ],
      "source": [
        "from email.message import EmailMessage\n",
        "import ssl\n",
        "import smtplib\n",
        "\n",
        "email_sender = 'sakshiporwal2002@gmail.com'\n",
        "email_password = password\n",
        "\n",
        "email_receiver = '1032200828@tcetmumbai.in'\n",
        "\n",
        "subject = \"dont forget to subscribe\"\n",
        "body = \"\"\"\n",
        "This is Sakshi Porwal\n",
        "\"\"\"\n",
        "\n",
        "em = EmailMessage()\n",
        "em['From'] = email_sender\n",
        "em['To'] = email_receiver\n",
        "em['subject'] = subject\n",
        "em.set_content(body)\n",
        "\n",
        "context = ssl.create_default_context()\n",
        "\n",
        "withsmtplib.SMTP_SSL"
      ]
    }
  ]
}
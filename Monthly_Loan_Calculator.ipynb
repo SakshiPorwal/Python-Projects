{
  "nbformat": 4,
  "nbformat_minor": 0,
  "metadata": {
    "colab": {
      "provenance": [],
      "collapsed_sections": [],
      "authorship_tag": "ABX9TyPn+b7DDCS/WzV6bwmtpu4M",
      "include_colab_link": true
    },
    "kernelspec": {
      "name": "python3",
      "display_name": "Python 3"
    },
    "language_info": {
      "name": "python"
    }
  },
  "cells": [
    {
      "cell_type": "markdown",
      "metadata": {
        "id": "view-in-github",
        "colab_type": "text"
      },
      "source": [
        "<a href=\"https://colab.research.google.com/github/SakshiPorwal/hello-world-/blob/main/Monthly_Loan_Calculator.ipynb\" target=\"_parent\"><img src=\"https://colab.research.google.com/assets/colab-badge.svg\" alt=\"Open In Colab\"/></a>"
      ]
    },
    {
      "cell_type": "code",
      "execution_count": 1,
      "metadata": {
        "colab": {
          "base_uri": "https://localhost:8080/"
        },
        "id": "q5qoOu3ndXbL",
        "outputId": "28a2ae3a-3224-4b4e-d514-b057a995d80f"
      },
      "outputs": [
        {
          "output_type": "stream",
          "name": "stdout",
          "text": [
            " This is a monthly payment loan calculator \n",
            "\n",
            "Input the loan amount: 10000\n",
            "Input the annual interest rate: 12\n",
            "Input number of years: 5\n",
            " The monthly payment for this loan is: 222.44 \n"
          ]
        }
      ],
      "source": [
        "def main():\n",
        "    print(\" This is a monthly payment loan calculator \")\n",
        "    print(\"\")\n",
        "    \n",
        "    principal = float(input(\"Input the loan amount: \"))\n",
        "    rate = float(input(\"Input the annual interest rate: \"))\n",
        "    time = int(input(\"Input number of years: \"))\n",
        "    \n",
        "    monthly_interest_rate = rate / 1200\n",
        "    amount_of_months = time * 12\n",
        "    monthly_payment = principal * monthly_interest_rate / (1 - (1 + monthly_interest_rate) ** (-amount_of_months))\n",
        "    \n",
        "    print(\" The monthly payment for this loan is: %.2f \" % monthly_payment)\n",
        "\n",
        "main()"
      ]
    }
  ]
}
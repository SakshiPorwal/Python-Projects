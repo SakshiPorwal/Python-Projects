{
  "nbformat": 4,
  "nbformat_minor": 0,
  "metadata": {
    "colab": {
      "provenance": [],
      "collapsed_sections": [],
      "authorship_tag": "ABX9TyMdBVXoipYTj2FP06aKbZo2",
      "include_colab_link": true
    },
    "kernelspec": {
      "name": "python3",
      "display_name": "Python 3"
    },
    "language_info": {
      "name": "python"
    }
  },
  "cells": [
    {
      "cell_type": "markdown",
      "metadata": {
        "id": "view-in-github",
        "colab_type": "text"
      },
      "source": [
        "<a href=\"https://colab.research.google.com/github/SakshiPorwal/hello-world-/blob/main/Email_Slicer.ipynb\" target=\"_parent\"><img src=\"https://colab.research.google.com/assets/colab-badge.svg\" alt=\"Open In Colab\"/></a>"
      ]
    },
    {
      "cell_type": "code",
      "execution_count": 2,
      "metadata": {
        "id": "2vBeNDMh1gB1",
        "colab": {
          "base_uri": "https://localhost:8080/"
        },
        "outputId": "caecd580-670f-4eb6-dbd7-72f1a3575d2d"
      },
      "outputs": [
        {
          "output_type": "stream",
          "name": "stdout",
          "text": [
            "Welcome to Email Slicer\n",
            "\n",
            "Enter your email address sakshiporwal2002@gmail.com\n",
            "username:  sakshiporwal2002\n",
            "domain:  gmail\n",
            "extension:  com\n"
          ]
        }
      ],
      "source": [
        "def main():\n",
        "  print(\"Welcome to Email Slicer\")\n",
        "  print(\"\")\n",
        "\n",
        "  email_input = input(\"Enter your email address \")\n",
        "\n",
        "  (username, domain) = email_input.split(\"@\")\n",
        "  (domain, extension) = domain.split(\".\")\n",
        "\n",
        "  print(\"username: \", username)\n",
        "  print(\"domain: \", domain)\n",
        "  print(\"extension: \", extension)\n",
        "\n",
        "main()\n",
        "\n",
        "\n"
      ]
    }
  ]
}
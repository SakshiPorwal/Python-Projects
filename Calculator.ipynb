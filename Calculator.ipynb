{
  "nbformat": 4,
  "nbformat_minor": 0,
  "metadata": {
    "colab": {
      "provenance": [],
      "authorship_tag": "ABX9TyOkStEkECu47Xc7tUGzPxlS",
      "include_colab_link": true
    },
    "kernelspec": {
      "name": "python3",
      "display_name": "Python 3"
    },
    "language_info": {
      "name": "python"
    }
  },
  "cells": [
    {
      "cell_type": "markdown",
      "metadata": {
        "id": "view-in-github",
        "colab_type": "text"
      },
      "source": [
        "<a href=\"https://colab.research.google.com/github/SakshiPorwal/hello-world-/blob/main/Calculator.ipynb\" target=\"_parent\"><img src=\"https://colab.research.google.com/assets/colab-badge.svg\" alt=\"Open In Colab\"/></a>"
      ]
    },
    {
      "cell_type": "code",
      "source": [
        "def add():\n",
        "  answer = a + b\n",
        "  print(str(a) + \"+\" + str(b) + \"=\" + str(answer))\n",
        "\n",
        "def sub():\n",
        "  answer = a-b\n",
        "  print(str(a) + \"-\" + str(b) + \"=\" + str(answer))\n",
        "\n",
        "def multiply():\n",
        "  answer = a*b\n",
        "  print(str(a) + \"*\" + str(b) + \"=\" + str(answer))\n",
        "\n",
        "def divide():\n",
        "  answer = a/b\n",
        "  print(str(a) + \"/\" + str(b) + \"=\" + str(answer))\n",
        "\n",
        "print(\"A. Addition\")\n",
        "print(\"B. Substraction\")\n",
        "print(\"C. Multiplication\")\n",
        "print(\"D. Division\")\n",
        "print(\"E. Exit\")\n",
        "\n",
        "choice = input(\"input your choice: \")\n",
        "\n",
        "if choice == \"a\" or choice == \"A\":\n",
        "  print(\"Addition\")\n",
        "  a = int(input(\"enter first number \"))\n",
        "  b = int(input(\"enter second number \"))\n",
        "  print(a+b)\n",
        "\n",
        "elif choice == \"b\" or choice == \"B\":\n",
        "  print(\"Substraction\")\n",
        "  a = int(input(\"enter first number \"))\n",
        "  b = int(input(\"enter second number \"))\n",
        "  print(a-b)\n",
        "\n",
        "elif choice == \"c\" or choice == \"C\":\n",
        "  print(\"Multiplication\")\n",
        "  a = int(input(\"enter first number \"))\n",
        "  b = int(input(\"enter second number \"))\n",
        "  print(a*b)\n",
        "\n",
        "elif choice == \"d\" or choice == \"D\":\n",
        "  print(\"Division\")\n",
        "  a = int(input(\"enter first number \"))\n",
        "  b = int(input(\"enter second number \"))\n",
        "  print(a/b)\n",
        "\n",
        "elif choice == \"e\" or choice == \"E\":\n",
        "  print(\"Exit\")\n",
        "\n"
      ],
      "metadata": {
        "id": "LZKdGWpdDJ3G",
        "colab": {
          "base_uri": "https://localhost:8080/"
        },
        "outputId": "5d8cb874-18b9-4adf-b1d6-774e2d6c36db"
      },
      "execution_count": 5,
      "outputs": [
        {
          "output_type": "stream",
          "name": "stdout",
          "text": [
            "A. Addition\n",
            "B. Substraction\n",
            "C. Multiplication\n",
            "D. Division\n",
            "E. Exit\n",
            "input your choice: e\n",
            "Exit\n"
          ]
        }
      ]
    }
  ]
}
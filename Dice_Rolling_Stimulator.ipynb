{
  "nbformat": 4,
  "nbformat_minor": 0,
  "metadata": {
    "colab": {
      "provenance": [],
      "collapsed_sections": [],
      "authorship_tag": "ABX9TyOPVrVqbkGp10ppwnp3on+j",
      "include_colab_link": true
    },
    "kernelspec": {
      "name": "python3",
      "display_name": "Python 3"
    },
    "language_info": {
      "name": "python"
    }
  },
  "cells": [
    {
      "cell_type": "markdown",
      "metadata": {
        "id": "view-in-github",
        "colab_type": "text"
      },
      "source": [
        "<a href=\"https://colab.research.google.com/github/SakshiPorwal/hello-world-/blob/main/Dice_Rolling_Stimulator.ipynb\" target=\"_parent\"><img src=\"https://colab.research.google.com/assets/colab-badge.svg\" alt=\"Open In Colab\"/></a>"
      ]
    },
    {
      "cell_type": "code",
      "execution_count": 1,
      "metadata": {
        "colab": {
          "base_uri": "https://localhost:8080/"
        },
        "id": "HeilHqAPbZcn",
        "outputId": "766687c9-4133-499d-e766-af16c34d44b7"
      },
      "outputs": [
        {
          "name": "stdout",
          "output_type": "stream",
          "text": [
            "Roll the dice? (Yes/No) : YES\n",
            "dice rolled: 1 and 1\n",
            "-----\n",
            "|   |\n",
            "| o |\n",
            "|   |\n",
            "-----\n",
            "-----\n",
            "|   |\n",
            "| o |\n",
            "|   |\n",
            "-----\n",
            "Roll again? (Yes/no): NO\n"
          ]
        }
      ],
      "source": [
        "import random\n",
        "\n",
        "def roll_dice():\n",
        "\n",
        "    dice_drawing = {\n",
        "        1: (\n",
        "            \"-----\",\n",
        "            \"|   |\",\n",
        "            \"| o |\",\n",
        "            \"|   |\",\n",
        "            \"-----\",\n",
        "        ),\n",
        "        2: (\n",
        "            \"-----\",\n",
        "            \"|o  |\",\n",
        "            \"|   |\",\n",
        "            \"|  o|\",\n",
        "            \"-----\",\n",
        "        ),\n",
        "        3: (\n",
        "            \"-----\",\n",
        "            \"|o  |\",\n",
        "            \"| o |\",\n",
        "            \"|  o|\",\n",
        "            \"-----\",\n",
        "        ),\n",
        "        4: (\n",
        "            \"-----\",\n",
        "            \"|o o|\",\n",
        "            \"|   |\",\n",
        "            \"|o o|\",\n",
        "            \"-----\",\n",
        "        ),\n",
        "        5: (\n",
        "            \"-----\",\n",
        "            \"|o o|\",\n",
        "            \"| o |\",\n",
        "            \"|o o|\",\n",
        "            \"-----\",\n",
        "        ),\n",
        "        6: (\n",
        "            \"-----\",\n",
        "            \"|o o|\",\n",
        "            \"|o o|\",\n",
        "            \"|o o|\",\n",
        "            \"-----\",\n",
        "        ),\n",
        "\n",
        "    }\n",
        "    roll = input(\"Roll the dice? (Yes/No) : \")\n",
        "    while roll.lower() == \"Yes\". lower():\n",
        "        dice1 = random.randint(1, 6)\n",
        "        dice2 = random.randint(1, 6)\n",
        "\n",
        "        print(\"dice rolled: {} and {}\". format(dice1, dice2))\n",
        "        print(\"\\n\".join(dice_drawing[dice1]))\n",
        "        print(\"\\n\".join(dice_drawing[dice2]))\n",
        "        \n",
        "        roll = input(\"Roll again? (Yes/no): \")\n",
        "roll_dice()"
      ]
    }
  ]
}
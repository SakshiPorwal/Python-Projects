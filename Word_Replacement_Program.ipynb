{
  "nbformat": 4,
  "nbformat_minor": 0,
  "metadata": {
    "colab": {
      "provenance": [],
      "collapsed_sections": [],
      "authorship_tag": "ABX9TyPoIqS+MGZhQUj1VbqGRCN0",
      "include_colab_link": true
    },
    "kernelspec": {
      "name": "python3",
      "display_name": "Python 3"
    },
    "language_info": {
      "name": "python"
    }
  },
  "cells": [
    {
      "cell_type": "markdown",
      "metadata": {
        "id": "view-in-github",
        "colab_type": "text"
      },
      "source": [
        "<a href=\"https://colab.research.google.com/github/SakshiPorwal/hello-world-/blob/main/Word_Replacement_Program.ipynb\" target=\"_parent\"><img src=\"https://colab.research.google.com/assets/colab-badge.svg\" alt=\"Open In Colab\"/></a>"
      ]
    },
    {
      "cell_type": "code",
      "execution_count": 5,
      "metadata": {
        "id": "NTH55AyMO3at",
        "colab": {
          "base_uri": "https://localhost:8080/"
        },
        "outputId": "44673e3e-7ca3-43b7-930b-e25eb55c9f8f"
      },
      "outputs": [
        {
          "output_type": "stream",
          "name": "stdout",
          "text": [
            "enter the word to replace: hi\n",
            "enter the word replacement: hie\n",
            "hello, hello, hello, my name is sakshie\n"
          ]
        }
      ],
      "source": [
        "def replace_word():\n",
        "\n",
        "  str = \"hello, hello, hello, my name is sakshi\"\n",
        "  word_to_replace = input(\"enter the word to replace: \")\n",
        "  word_replacement = input(\"enter the word replacement: \")\n",
        "  print(str.replace(word_to_replace, word_replacement))\n",
        "\n",
        "replace_word()"
      ]
    },
    {
      "cell_type": "code",
      "source": [],
      "metadata": {
        "id": "Gcm22n3RpDtT"
      },
      "execution_count": null,
      "outputs": []
    }
  ]
}
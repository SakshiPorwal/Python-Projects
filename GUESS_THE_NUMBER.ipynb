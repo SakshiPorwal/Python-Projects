{
  "nbformat": 4,
  "nbformat_minor": 0,
  "metadata": {
    "colab": {
      "provenance": [],
      "collapsed_sections": [],
      "authorship_tag": "ABX9TyOEyhqbdtb+k9UMXCqm+5v3",
      "include_colab_link": true
    },
    "kernelspec": {
      "name": "python3",
      "display_name": "Python 3"
    },
    "language_info": {
      "name": "python"
    }
  },
  "cells": [
    {
      "cell_type": "markdown",
      "metadata": {
        "id": "view-in-github",
        "colab_type": "text"
      },
      "source": [
        "<a href=\"https://colab.research.google.com/github/SakshiPorwal/hello-world-/blob/main/GUESS_THE_NUMBER.ipynb\" target=\"_parent\"><img src=\"https://colab.research.google.com/assets/colab-badge.svg\" alt=\"Open In Colab\"/></a>"
      ]
    },
    {
      "cell_type": "code",
      "execution_count": null,
      "metadata": {
        "id": "2ihFRlYk1zL_",
        "colab": {
          "base_uri": "https://localhost:8080/"
        },
        "outputId": "4d14c19f-68b0-4003-e7ea-51fb8d59bff2"
      },
      "outputs": [
        {
          "output_type": "stream",
          "name": "stdout",
          "text": [
            "Number of guesses is limited to only 9 times: \n",
            "Guess the number :\n",
            "14\n",
            "you enter less number please input greater number.\n",
            "\n",
            "8 no. of guesses left\n",
            "Guess the number :\n",
            "5\n",
            "you enter less number please input greater number.\n",
            "\n",
            "7 no. of guesses left\n",
            "Guess the number :\n",
            "21\n",
            "you enter greater number please input smaller number.\n",
            " \n",
            "6 no. of guesses left\n",
            "Guess the number :\n",
            "56\n",
            "you enter greater number please input smaller number.\n",
            " \n",
            "5 no. of guesses left\n",
            "Guess the number :\n",
            "20\n",
            "you enter greater number please input smaller number.\n",
            " \n",
            "4 no. of guesses left\n",
            "Guess the number :\n",
            "1\n",
            "you enter less number please input greater number.\n",
            "\n",
            "3 no. of guesses left\n",
            "Guess the number :\n",
            "18\n",
            "you won\n",
            "\n",
            "7 no.of guesses he took to finish.\n"
          ]
        }
      ],
      "source": [
        "\n",
        "\n",
        "n=20\n",
        "number_of_guesses=1\n",
        "print(\"Number of guesses is limited to only 5 times: \")\n",
        "while (number_of_guesses<=5):\n",
        "    guess_number = int(input(\"Guess the number :\\n\"))\n",
        "    if guess_number<20:\n",
        "        print(\"you enter less number please input greater number.\\n\")\n",
        "    elif guess_number>20:\n",
        "        print(\"you enter greater number please input smaller number.\\n \")\n",
        "    else:\n",
        "        print(\"you won\\n\")\n",
        "        print(number_of_guesses,\"no.of guesses he took to finish.\")\n",
        "        break;\n",
        "    print(5-number_of_guesses,\"no. of guesses left\")\n",
        "    number_of_guesses = number_of_guesses + 1\n",
        "\n",
        "if(number_of_guesses>5):\n",
        "    print(\"Game Over\")\n",
        "  \n"
      ]
    },
    {
      "cell_type": "code",
      "source": [],
      "metadata": {
        "id": "BOq4FuMF0x62"
      },
      "execution_count": null,
      "outputs": []
    }
  ]
}
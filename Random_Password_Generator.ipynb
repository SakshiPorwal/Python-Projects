{
  "nbformat": 4,
  "nbformat_minor": 0,
  "metadata": {
    "colab": {
      "provenance": [],
      "collapsed_sections": [],
      "authorship_tag": "ABX9TyMT0PEXZLxWtFzUEa2olsMJ",
      "include_colab_link": true
    },
    "kernelspec": {
      "name": "python3",
      "display_name": "Python 3"
    },
    "language_info": {
      "name": "python"
    }
  },
  "cells": [
    {
      "cell_type": "markdown",
      "metadata": {
        "id": "view-in-github",
        "colab_type": "text"
      },
      "source": [
        "<a href=\"https://colab.research.google.com/github/SakshiPorwal/hello-world-/blob/main/Random_Password_Generator.ipynb\" target=\"_parent\"><img src=\"https://colab.research.google.com/assets/colab-badge.svg\" alt=\"Open In Colab\"/></a>"
      ]
    },
    {
      "cell_type": "code",
      "source": [
        "import string\n",
        "import random\n",
        "\n",
        "characters = list(string.ascii_letters + string.digits + \" !@#$%^&*()\")\n",
        "\n",
        "def generate_password():\n",
        "    password_length = int(input(\"How long would you like your password to be? \"))\n",
        "    \n",
        "    random.shuffle(characters)\n",
        "    \n",
        "    password = []\n",
        "    \n",
        "    for x in range(password_length):\n",
        "        password.append(random.choice(characters))\n",
        "    \n",
        "    random.shuffle(password)\n",
        "    \n",
        "    password = \"\" .join(password)\n",
        "    print(password)\n",
        "\n",
        "option = input(\"Do you want to generate a password? (Yes/No): \")\n",
        "\n",
        "if option == \"Yes\":\n",
        "    generate_password()\n",
        "elif option == \"No\":\n",
        "    print(\"Program ended\")\n",
        "    quit()\n",
        "else:\n",
        "    print(\"Invalid input, please input Yes or No\")\n",
        "    quit()"
      ],
      "metadata": {
        "colab": {
          "base_uri": "https://localhost:8080/"
        },
        "id": "T5nRCu_ghiGn",
        "outputId": "4572f5e9-6ed3-4478-843d-69d31869262a"
      },
      "execution_count": 2,
      "outputs": [
        {
          "output_type": "stream",
          "name": "stdout",
          "text": [
            "Do you want to generate a password? (Yes/No): No\n",
            "Program ended\n"
          ]
        }
      ]
    }
  ]
}
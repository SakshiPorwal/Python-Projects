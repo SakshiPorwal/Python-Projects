{
  "nbformat": 4,
  "nbformat_minor": 0,
  "metadata": {
    "colab": {
      "provenance": [],
      "collapsed_sections": [],
      "authorship_tag": "ABX9TyMJHnTHpfRt9FqP8MwHmclz",
      "include_colab_link": true
    },
    "kernelspec": {
      "name": "python3",
      "display_name": "Python 3"
    },
    "language_info": {
      "name": "python"
    }
  },
  "cells": [
    {
      "cell_type": "markdown",
      "metadata": {
        "id": "view-in-github",
        "colab_type": "text"
      },
      "source": [
        "<a href=\"https://colab.research.google.com/github/SakshiPorwal/hello-world-/blob/main/Currency_Converter.ipynb\" target=\"_parent\"><img src=\"https://colab.research.google.com/assets/colab-badge.svg\" alt=\"Open In Colab\"/></a>"
      ]
    },
    {
      "cell_type": "code",
      "source": [
        "def main():\n",
        "    print(\"This program converts US dollars to INR\")\n",
        "    print()\n",
        "\n",
        "    dollars = eval(input(\"Enter amount in dollars: \"))\n",
        "\n",
        "    INR = convert_to_INR(dollars)\n",
        "\n",
        "    print(\"That is\" , INR, \"INR \")\n",
        "\n",
        "convert_to_INR = lambda dollars: dollars/75\n",
        "\n",
        "main()"
      ],
      "metadata": {
        "colab": {
          "base_uri": "https://localhost:8080/"
        },
        "id": "aXrlwnJPaGdl",
        "outputId": "fb57a569-31ce-47ed-a7bc-67e2d1ee52f3"
      },
      "execution_count": 15,
      "outputs": [
        {
          "output_type": "stream",
          "name": "stdout",
          "text": [
            "This program converts US dollars to INR\n",
            "\n",
            "Enter amount in dollars: 10\n",
            "That is 0.13333333333333333 INR \n"
          ]
        }
      ]
    }
  ]
}